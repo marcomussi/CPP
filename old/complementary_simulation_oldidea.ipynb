{
 "cells": [
  {
   "cell_type": "code",
   "execution_count": 1,
   "id": "d74b94ab-65ff-4b5a-b7f0-0aa366b94ffc",
   "metadata": {},
   "outputs": [],
   "source": [
    "import numpy as np, sys, json, datetime, multiprocessing\n",
    "import matplotlib.pyplot as plt\n",
    "import tikzplotlib as tkz\n",
    "from tqdm.auto import tqdm\n",
    "\n",
    "from efficientregressors import GaussianProcessRegressor, DoubleGaussianProcessRegressor\n",
    "from agents import PricingAgentComplementary\n",
    "from envs import IndependentPricingEnv\n",
    "from utils import generate_curves, generate_user_ranges, generate_graph"
   ]
  },
  {
   "cell_type": "code",
   "execution_count": 2,
   "id": "6045a26b-1eb5-478e-aaf5-7fe1b2a99e03",
   "metadata": {},
   "outputs": [],
   "source": [
    "class ComplementaryPricingEnv:\n",
    "    \"\"\"\n",
    "    This is the simlator to emulate the behavior of a shop which sells product.\n",
    "    The simulator consider fixed length time periods (that can be assumed as, e.g., one week).\n",
    "    We assume there exists complementary products.\n",
    "    We maximize the net worth.\n",
    "    \"\"\"\n",
    "\n",
    "    def __init__(self, n_products, n_actions, actions, demands, user_range, graph_dict, compl_factor, mc_ep=1e5, seed=0):\n",
    "        \n",
    "        assert demands.shape == (n_products, n_actions), \"Shape of the demand not coherent\"\n",
    "        assert actions.shape == (n_actions, ), \"Shape of the actions not coherent\"\n",
    "        assert (demands <= 1).all() and (demands >= 0).all(), \"Error in demand values\"\n",
    "        assert user_range.shape == (n_products, 2), \"Shape of user_range not coherent\"\n",
    "        assert (user_range > 0).all(), \"user_range must be strictly greater than zero\"\n",
    "        assert (user_range[:, 0] <= user_range[:, 1]).all(), \"user_range not coherent\"\n",
    "        assert compl_factor > 1, \"compl_factor not coherent\"\n",
    "        \n",
    "        self.n_products = n_products\n",
    "        self.n_actions = n_actions\n",
    "        self.demands = demands\n",
    "        self.actions = actions\n",
    "        self.user_range = user_range\n",
    "        self.graph_dict = graph_dict\n",
    "        self.compl_factor = compl_factor\n",
    "        \n",
    "        self.reset(seed)\n",
    "\n",
    "\n",
    "    def reset(self, seed=0):\n",
    "        \n",
    "        np.random.seed(seed)\n",
    "        \n",
    "    \n",
    "    def step(self, action):\n",
    "        \n",
    "        assert action.ndim == 1, \"The action must be 1-dimensional\"\n",
    "        assert action.shape[0] == self.n_products, \"The action must be of dimension n_products\"\n",
    "        \n",
    "        sales = np.zeros((self.n_products, 2), dtype=int)\n",
    "        \n",
    "        sales[:, 1] = (np.random.uniform(0, 1, self.n_products) * (\n",
    "            self.user_range[:, 1] - self.user_range[:, 0]) + self.user_range[:, 0]).astype(np.int64)\n",
    "        \n",
    "        sales[:, 0] = np.random.binomial(sales[:, 1], np.array([self.demands[i, action[i]] for i in range(self.n_products)]))\n",
    "\n",
    "        for key in \n",
    "        \n",
    "        return sales\n",
    "\n",
    "\n",
    "    def compute_optimal_actions(self):\n",
    "\n",
    "        optimal_actions = -1 * np.ones(self.n_products, dtype=int)\n",
    "        optimal_value = 0\n",
    "        \n",
    "        for key in list(self.graph_dict.keys()):\n",
    "\n",
    "            lst = self.graph_dict[key]\n",
    "\n",
    "            mc_demand_trainer = \n",
    "            mc_demand_trainee = \n",
    "\n",
    "        return optimal_actions, optimal_value"
   ]
  },
  {
   "cell_type": "code",
   "execution_count": 3,
   "id": "bd4c4f0c-f632-4473-bae0-d5009db969fc",
   "metadata": {
    "scrolled": true
   },
   "outputs": [],
   "source": [
    "num_actions = 10\n",
    "num_products = 3\n",
    "num_clusters = 1\n",
    "horizon = 500\n",
    "min_users = 100\n",
    "max_users = 200\n",
    "compl_factor = 2\n",
    "user_ranges_overall = [min_users, max_users]\n",
    "sigma_process = 1 / (2 * np.sqrt(min_users))\n",
    "actions = np.linspace(0.1, 1.0, num_actions)\n",
    "costs = np.ones(num_products) # np.random.uniform(1, 2, num_products)\n",
    "kernel_L = 10\n",
    "\n",
    "algs = [\"Indep\"]\n",
    "\n",
    "num_trials = 3\n",
    "\n",
    "results_dict = []"
   ]
  },
  {
   "cell_type": "code",
   "execution_count": 4,
   "id": "611a6580-5832-4fed-9d68-6a78615a1e55",
   "metadata": {},
   "outputs": [
    {
     "data": {
      "application/vnd.jupyter.widget-view+json": {
       "model_id": "7eb68144ee5a4d879f8bcb2e4aff154f",
       "version_major": 2,
       "version_minor": 0
      },
      "text/plain": [
       "  0%|          | 0/500 [00:00<?, ?it/s]"
      ]
     },
     "metadata": {},
     "output_type": "display_data"
    },
    {
     "data": {
      "application/vnd.jupyter.widget-view+json": {
       "model_id": "6d7272393ce141ecb6c083940f747f35",
       "version_major": 2,
       "version_minor": 0
      },
      "text/plain": [
       "  0%|          | 0/500 [00:00<?, ?it/s]"
      ]
     },
     "metadata": {},
     "output_type": "display_data"
    },
    {
     "data": {
      "application/vnd.jupyter.widget-view+json": {
       "model_id": "bb88e9d9815b442fa7a6462f843a6734",
       "version_major": 2,
       "version_minor": 0
      },
      "text/plain": [
       "  0%|          | 0/500 [00:00<?, ?it/s]"
      ]
     },
     "metadata": {},
     "output_type": "display_data"
    }
   ],
   "source": [
    "for trial_id in range(num_trials):\n",
    "    \n",
    "    results_dict.append({alg : {\"res\" : np.zeros((horizon, num_products)), \"act\" : np.zeros((horizon, num_products), dtype=int)}\n",
    "                         for alg in algs})\n",
    "    np.random.seed(trial_id)\n",
    "\n",
    "    demands = generate_curves(num_products, num_actions=num_actions)\n",
    "    \n",
    "    user_ranges = generate_user_ranges(num_products, user_ranges_overall[0], user_ranges_overall[1])\n",
    "    \n",
    "    # graph_dict = {i : [] for i in range(num_products)}\n",
    "    graph_dict = generate_graph(num_products, num_clusters)\n",
    "\n",
    "    for key in graph_dict.keys():\n",
    "        if len(graph_dict[key]) > 1:\n",
    "            for i in range(1, len(graph_dict[key])):\n",
    "                demands[graph_dict[key][i], :] = demands[graph_dict[key][0], :]\n",
    "\n",
    "    env = ComplementaryPricingEnv(num_products, num_actions, actions, num_products, axis=0), \n",
    "                                demands, user_ranges, graph_dict, compl_factor, seed=trial_id)\n",
    "    optimal_actions, optimal_values = env.compute_optimal_actions()\n",
    "    \n",
    "    agent = PricingAgentComplementary(num_products, actions, costs, kernel_L, sigma_process, \n",
    "                                      horizon, graph_dict=graph_dict, verbose=False)\n",
    "\n",
    "    for t in tqdm(range(horizon)):\n",
    "        \n",
    "        results_dict[trial_id][\"Indep\"][\"act\"][t, :] = agent.pull()\n",
    "        \n",
    "        res = env.step(results_dict[trial_id][\"Indep\"][\"act\"][t, :])\n",
    "        # print(res)\n",
    "        agent.update(res[:, 0], res[:, 1])\n",
    "        \n",
    "        for i in range(num_products):\n",
    "            \n",
    "            results_dict[trial_id][\"Indep\"][\"res\"][t, i] = res[i, 1] * optimal_values[i] - res[i, 0\n",
    "                ] * actions[results_dict[trial_id][\"Indep\"][\"act\"][t, i]]"
   ]
  },
  {
   "cell_type": "code",
   "execution_count": 5,
   "id": "ce452fc6-b315-4ca5-8b56-50b46c3213d6",
   "metadata": {},
   "outputs": [
    {
     "data": {
      "image/png": "[encoded data removed]",
      "text/plain": [
       "<Figure size 640x480 with 1 Axes>"
      ]
     },
     "metadata": {},
     "output_type": "display_data"
    }
   ],
   "source": [
    "plt.figure()\n",
    "x_plt = np.linspace(0, horizon-1, horizon, dtype=int)\n",
    "\n",
    "for alg in algs:\n",
    "    \n",
    "    aux = np.zeros((num_trials, horizon))\n",
    "    for i in range(num_trials):\n",
    "        aux[i, :] = np.array(results_dict[i][alg][\"res\"]).sum(axis=1)\n",
    "        \n",
    "    results_alg = np.cumsum(aux, axis=1)\n",
    "    results_mean = np.mean(results_alg, axis=0)\n",
    "    results_std = 1.96 * results_alg.std(axis=0) / np.sqrt(num_trials)\n",
    "\n",
    "    plt.plot(x_plt, results_mean[x_plt], label=alg)\n",
    "    plt.fill_between(x_plt, results_mean[x_plt] - results_std[x_plt], results_mean[x_plt] + results_std[x_plt], alpha=0.3)"
   ]
  }
 ],
 "metadata": {
  "kernelspec": {
   "display_name": "Python 3 (ipykernel)",
   "language": "python",
   "name": "python3"
  },
  "language_info": {
   "codemirror_mode": {
    "name": "ipython",
    "version": 3
   },
   "file_extension": ".py",
   "mimetype": "text/x-python",
   "name": "python",
   "nbconvert_exporter": "python",
   "pygments_lexer": "ipython3",
   "version": "3.9.19"
  }
 },
 "nbformat": 4,
 "nbformat_minor": 5
}
