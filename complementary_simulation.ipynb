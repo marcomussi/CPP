{
 "cells": [
  {
   "cell_type": "code",
   "execution_count": 1,
   "id": "d74b94ab-65ff-4b5a-b7f0-0aa366b94ffc",
   "metadata": {},
   "outputs": [],
   "source": [
    "import numpy as np, sys, json, datetime, multiprocessing\n",
    "import matplotlib.pyplot as plt\n",
    "import tikzplotlib as tkz\n",
    "from tqdm.auto import tqdm\n",
    "\n",
    "from regressors import GaussianProcessRegressor, DoubleGaussianProcessRegressor\n",
    "from envs import IndependentPricingEnv\n",
    "from utils import generate_curves, generate_user_ranges, generate_graph"
   ]
  },
  {
   "cell_type": "code",
   "execution_count": 2,
   "id": "6045a26b-1eb5-478e-aaf5-7fe1b2a99e03",
   "metadata": {},
   "outputs": [
    {
     "data": {
      "text/plain": [
       "'\\nclass IndependentPricingEnv:\\n    \\n    def __init__(self, n_products, n_actions, actions, demands, user_range, seed=0):\\n        \\n        self.n_products = n_products\\n        self.n_actions = n_actions\\n        self.demands = demands\\n        self.actions = actions\\n        self.user_range = user_range\\n        \\n    \\n    def step(self, action):\\n        \\n        assert action.ndim == 1 and action.shape[0] == self.n_products, \"error in action\"\\n        sales = np.zeros((self.n_products, 2), dtype=int)\\n        sales[:, 1] = 1000\\n        sales[:, 0] = np.round(sales[:, 1] * np.array([self.demands[i, action[i]] for i in range(self.n_products)]))\\n        return sales\\n\\n\\n    def compute_optimal_actions(self):\\n        return np.argmax(np.multiply(self.demands, self.actions), axis=1), np.max(np.multiply(self.demands, self.actions), axis=1)\\n'"
      ]
     },
     "execution_count": 2,
     "metadata": {},
     "output_type": "execute_result"
    }
   ],
   "source": [
    "\"\"\"\n",
    "class IndependentPricingEnv:\n",
    "    \n",
    "    def __init__(self, n_products, n_actions, actions, demands, user_range, seed=0):\n",
    "        \n",
    "        self.n_products = n_products\n",
    "        self.n_actions = n_actions\n",
    "        self.demands = demands\n",
    "        self.actions = actions\n",
    "        self.user_range = user_range\n",
    "        \n",
    "    \n",
    "    def step(self, action):\n",
    "        \n",
    "        assert action.ndim == 1 and action.shape[0] == self.n_products, \"error in action\"\n",
    "        sales = np.zeros((self.n_products, 2), dtype=int)\n",
    "        sales[:, 1] = 1000\n",
    "        sales[:, 0] = np.round(sales[:, 1] * np.array([self.demands[i, action[i]] for i in range(self.n_products)]))\n",
    "        return sales\n",
    "\n",
    "\n",
    "    def compute_optimal_actions(self):\n",
    "        return np.argmax(np.multiply(self.demands, self.actions), axis=1), np.max(np.multiply(self.demands, self.actions), axis=1)\n",
    "\"\"\""
   ]
  },
  {
   "cell_type": "code",
   "execution_count": 3,
   "id": "31a7b108-cad2-43c6-90e5-bd2342748558",
   "metadata": {},
   "outputs": [],
   "source": [
    "class PricingAgentComplementary: \n",
    "\n",
    "    \n",
    "    def __init__(self, num_products, actions, costs, kernel_L, sigma_process, horizon, graph_dict=None, verbose=True):\n",
    "\n",
    "        self.num_products = num_products\n",
    "        self.num_actions = len(actions)\n",
    "        \n",
    "        self.actions = actions\n",
    "        self.costs = costs\n",
    "        \n",
    "        self.kernel_L = kernel_L\n",
    "        self.sigma_process = sigma_process\n",
    "        \n",
    "        self.horizon = horizon\n",
    "        self.beta = 4 * np.log(self.horizon)\n",
    "        \n",
    "        self.interactions_count = 0\n",
    "\n",
    "        self.total_sales = np.zeros(self.num_products)\n",
    "\n",
    "        actions0, actions1 = np.meshgrid(self.actions, self.actions)\n",
    "        self.byvariate_actions = np.hstack((actions0.ravel().reshape(-1, 1), actions1.ravel().reshape(-1, 1)))\n",
    "        actions0, actions1 = np.meshgrid(np.linspace(0, self.num_actions-1, self.num_actions, dtype=int), \n",
    "                                         np.linspace(0, self.num_actions-1, self.num_actions, dtype=int))\n",
    "        self.byvariate_actions_map = np.hstack((actions0.ravel().reshape(-1, 1), actions1.ravel().reshape(-1, 1)))\n",
    "\n",
    "        self.verbose = verbose\n",
    "        \n",
    "        if graph_dict is None:\n",
    "            self.known_relations = False\n",
    "            self.interactions_dataset = -1 * np.ones((num_products, horizon, 2))\n",
    "        else:\n",
    "            self.known_relations = True\n",
    "            self.used_graph_dict = graph_dict\n",
    "            self._create_regressors()\n",
    "\n",
    "        if self.verbose:\n",
    "            print(\"num products and actions\", self.num_products, self.num_actions)\n",
    "            print(\"actions\", self.actions)\n",
    "            print(\"costs\", self.costs)\n",
    "            print(\"horizon and beta\", self.horizon, self.beta)\n",
    "            print(\"total sales\", self.total_sales)\n",
    "            print(\"byvariate_actions\", self.byvariate_actions)\n",
    "            print(\"byvariate_actions_map\", self.byvariate_actions_map)\n",
    "            print(\"used_graph_dict\", self.used_graph_dict)\n",
    "\n",
    "    \n",
    "    def pull(self):\n",
    "\n",
    "        if self.verbose:\n",
    "            print(\"Executing pull(). Interaction count before this: \" + str(self.interactions_count))\n",
    "        \n",
    "        if self.interactions_count == 0:\n",
    "            \n",
    "            self.last_actions_vect = np.zeros(self.num_products, dtype=int)\n",
    "        \n",
    "        else:\n",
    "\n",
    "            self.last_actions_vect = -1 * np.ones(self.num_products, dtype=int)\n",
    "            \n",
    "            if self.known_relations:\n",
    "\n",
    "                if self.verbose:\n",
    "                    print(\"Executing pull(). self.used_graph_dict.keys(): \" + str(self.used_graph_dict.keys()))\n",
    "                \n",
    "                for key in list(self.used_graph_dict.keys()):\n",
    "\n",
    "                    if self.verbose:\n",
    "                        print(\"Executing pull(). running for cicle for key: \" + str(key))\n",
    "                    \n",
    "                    if len(self.used_graph_dict[key]) == 0: \n",
    "\n",
    "                        if self.verbose:\n",
    "                            print(\"Executing pull(). We have \" + str(len(self.used_graph_dict[key])) + \"trained products: we use single regressor\")\n",
    "                        \n",
    "                        mu, sigma = self.regressors[key].compute(self.actions.reshape(self.num_actions, 1))\n",
    "                        self.last_actions_vect[key] = np.argmax(self.actions * (mu + self.beta * sigma))\n",
    "                        \n",
    "                    else: \n",
    "                        \n",
    "                        trainee_lst = self.used_graph_dict[key]\n",
    "                        aux1 = np.array([self.total_sales[trainee_lst[i]] for i in range(len(trainee_lst))])\n",
    "                        aux2 = np.array([self.costs[trainee_lst[i]] for i in range(len(trainee_lst))])\n",
    "                        trainee_w = np.sum(aux1 * aux2)\n",
    "                        trainer_w = self.total_sales[key] * self.costs[key]\n",
    "\n",
    "                        if self.verbose:\n",
    "                            print(\"Executing pull(). We have \" + str(len(self.used_graph_dict[key])) + \"trained products: we use double regressor\")\n",
    "                            print(\"Executing pull(). trainee_lst: \" + str(trainee_lst))\n",
    "                            print(\"Executing pull(). aux1 (sales): \" + str(aux1))\n",
    "                            print(\"Executing pull(). aux2 (costs): \" + str(aux2))\n",
    "                            print(\"Executing pull(). trainee_w: \" + str(trainee_w))\n",
    "                            print(\"Executing pull(). trainer_w: \" + str(trainer_w))\n",
    "                        \n",
    "                        mu_y1, mu_y2, sigma = self.regressors[key].compute(self.byvariate_actions)\n",
    "                        idx = np.argmax(\n",
    "                            self.byvariate_actions[:, 0] * trainer_w * (mu_y1 + self.beta * sigma) + \n",
    "                            self.byvariate_actions[:, 1] * trainee_w * (mu_y2 + self.beta * sigma)\n",
    "                        )\n",
    "\n",
    "                        if self.verbose:\n",
    "                            print(\"Executing pull(). mu_y1: \" + str(mu_y1))\n",
    "                            print(\"Executing pull(). mu_y2: \" + str(mu_y2))\n",
    "                            print(\"Executing pull(). sigma: \" + str(sigma))\n",
    "                            print(\"Executing pull(). idx: \" + str(idx))\n",
    "                            \n",
    "                        self.last_actions_vect[key] = self.byvariate_actions_map[idx, 0]\n",
    "                        for i in range(len(trainee_lst)):\n",
    "                            self.last_actions_vect[trainee_lst[i]] = self.byvariate_actions_map[idx, 1]\n",
    "            \n",
    "            else:\n",
    "                \n",
    "                raise NotImplementedError(\"unknown graph scenario not implemented\")     \n",
    "\n",
    "        if self.verbose:\n",
    "            print(\"Executing pull(). Playing: \" + str(self.last_actions_vect))\n",
    "        \n",
    "        return self.last_actions_vect\n",
    "            \n",
    "    \n",
    "    def update(self, sales, impressions, interactions=None):\n",
    "        \n",
    "        assert sales.shape == (self.num_products, ) and impressions.shape == (self.num_products, ), \"update(): error in input\"\n",
    "        \n",
    "        self.total_sales = self.total_sales + sales\n",
    "        \n",
    "        rewards = sales / impressions\n",
    "        \n",
    "        if self.known_relations:\n",
    "            \n",
    "            for key in list(self.used_graph_dict.keys()):\n",
    "                if len(self.used_graph_dict[key]) == 0: \n",
    "                    self.regressors[key].update_data(self.actions[self.last_actions_vect[key]], rewards[key])\n",
    "                else: \n",
    "                    trainee_lst = self.used_graph_dict[key]\n",
    "                    for i in range(len(trainee_lst)):\n",
    "                        if i < len(trainee_lst) - 1:\n",
    "                            assert self.last_actions_vect[trainee_lst[i]] == self.last_actions_vect[trainee_lst[i+1]\n",
    "                                ], \"update(): error, actions must be the same for all trainee\"\n",
    "                    trainee_lst = self.used_graph_dict[key]\n",
    "                    rw = np.array([rewards[trainee_lst[i]] for i in range(len(trainee_lst))])\n",
    "                    aux1 = np.array([sales[trainee_lst[i]] for i in range(len(trainee_lst))])\n",
    "                    aux2 = np.array([self.costs[trainee_lst[i]] for i in range(len(trainee_lst))])\n",
    "                    aux1 = np.nan_to_num(aux1, nan=1.0)\n",
    "                    aux1 = np.maximum(aux1, 1)\n",
    "                    aux = aux1 * aux2\n",
    "                    avg_reward = (rw.reshape(1, len(trainee_lst)) @ aux.reshape(len(trainee_lst), 1)) / np.sum(aux)\n",
    "\n",
    "                    if self.verbose:\n",
    "                        print(\"Executing update(). aux1 (sales): \" + str(aux1))\n",
    "                        print(\"Executing update(). aux2 (costs): \" + str(aux2))\n",
    "                        print(\"Executing update(). avg_reward: \" + str(avg_reward))\n",
    "                    \n",
    "                    self.regressors[key].update_data(\n",
    "                        [self.actions[self.last_actions_vect[key]], self.actions[self.last_actions_vect[self.used_graph_dict[key][0]]]],\n",
    "                        rewards[key], avg_reward\n",
    "                    )\n",
    "        \n",
    "        else:\n",
    "            \n",
    "            raise NotImplementedError(\"unknown graph scenario not implemented\")\n",
    "            self._update_graph_data()\n",
    "\n",
    "        self.interactions_count += 1\n",
    "\n",
    "    \n",
    "    def _create_regressors(self):\n",
    "\n",
    "        self.regressors = {}\n",
    "        \n",
    "        for key in list(self.used_graph_dict.keys()):\n",
    "            if len(self.used_graph_dict[key]) == 0: \n",
    "                self.regressors[key] = GaussianProcessRegressor(self.kernel_L, self.sigma_process, 1)\n",
    "            else: \n",
    "                self.regressors[key] = DoubleGaussianProcessRegressor(self.kernel_L, self.sigma_process, 2)\n",
    "        \n",
    "        if self.verbose:\n",
    "            print(\"Created regressors: \" + str(self.regressors) + \" from dict: \" + str(self.used_graph_dict))\n",
    "    \n",
    "    def _update_graph_data(self):\n",
    "\n",
    "        raise NotImplementedError(\"unknown graph scenario not implemented\")"
   ]
  },
  {
   "cell_type": "code",
   "execution_count": 4,
   "id": "bd4c4f0c-f632-4473-bae0-d5009db969fc",
   "metadata": {
    "scrolled": true
   },
   "outputs": [],
   "source": [
    "num_actions = 10\n",
    "num_products = 3\n",
    "num_clusters = 1\n",
    "horizon = 1000\n",
    "min_users = 100\n",
    "max_users = 200\n",
    "user_ranges_overall = [min_users, max_users]\n",
    "sigma_process = 1 / (2 * np.sqrt(min_users))\n",
    "actions = np.linspace(0.1, 1.0, num_actions)\n",
    "costs = np.ones(num_products) # np.random.uniform(1, 2, num_products)\n",
    "kernel_L = 10\n",
    "\n",
    "algs = [\"Indep\"]\n",
    "\n",
    "num_trials = 1\n",
    "\n",
    "results_dict = []"
   ]
  },
  {
   "cell_type": "code",
   "execution_count": 11,
   "id": "611a6580-5832-4fed-9d68-6a78615a1e55",
   "metadata": {},
   "outputs": [
    {
     "data": {
      "application/vnd.jupyter.widget-view+json": {
       "model_id": "75f380926c704cbfbe7b14fe7552effe",
       "version_major": 2,
       "version_minor": 0
      },
      "text/plain": [
       "  0%|          | 0/1000 [00:00<?, ?it/s]"
      ]
     },
     "metadata": {},
     "output_type": "display_data"
    },
    {
     "ename": "KeyboardInterrupt",
     "evalue": "",
     "output_type": "error",
     "traceback": [
      "\u001b[0;31m---------------------------------------------------------------------------\u001b[0m",
      "\u001b[0;31mKeyboardInterrupt\u001b[0m                         Traceback (most recent call last)",
      "Cell \u001b[0;32mIn[11], line 35\u001b[0m\n\u001b[1;32m     30\u001b[0m agent \u001b[38;5;241m=\u001b[39m PricingAgentComplementary(num_products, actions, costs, kernel_L, sigma_process, \n\u001b[1;32m     31\u001b[0m                                   horizon, graph_dict\u001b[38;5;241m=\u001b[39mgraph_dict, verbose\u001b[38;5;241m=\u001b[39m\u001b[38;5;28;01mFalse\u001b[39;00m)\n\u001b[1;32m     33\u001b[0m \u001b[38;5;28;01mfor\u001b[39;00m t \u001b[38;5;129;01min\u001b[39;00m tqdm(\u001b[38;5;28mrange\u001b[39m(horizon)):\n\u001b[0;32m---> 35\u001b[0m     results_dict[trial_id][\u001b[38;5;124m\"\u001b[39m\u001b[38;5;124mIndep\u001b[39m\u001b[38;5;124m\"\u001b[39m][\u001b[38;5;124m\"\u001b[39m\u001b[38;5;124mact\u001b[39m\u001b[38;5;124m\"\u001b[39m][t, :] \u001b[38;5;241m=\u001b[39m \u001b[43magent\u001b[49m\u001b[38;5;241;43m.\u001b[39;49m\u001b[43mpull\u001b[49m\u001b[43m(\u001b[49m\u001b[43m)\u001b[49m\n\u001b[1;32m     37\u001b[0m     res \u001b[38;5;241m=\u001b[39m env\u001b[38;5;241m.\u001b[39mstep(results_dict[trial_id][\u001b[38;5;124m\"\u001b[39m\u001b[38;5;124mIndep\u001b[39m\u001b[38;5;124m\"\u001b[39m][\u001b[38;5;124m\"\u001b[39m\u001b[38;5;124mact\u001b[39m\u001b[38;5;124m\"\u001b[39m][t, :])\n\u001b[1;32m     38\u001b[0m     \u001b[38;5;66;03m# print(res)\u001b[39;00m\n",
      "Cell \u001b[0;32mIn[3], line 96\u001b[0m, in \u001b[0;36mPricingAgentComplementary.pull\u001b[0;34m(self)\u001b[0m\n\u001b[1;32m     93\u001b[0m     \u001b[38;5;28mprint\u001b[39m(\u001b[38;5;124m\"\u001b[39m\u001b[38;5;124mExecuting pull(). trainee_w: \u001b[39m\u001b[38;5;124m\"\u001b[39m \u001b[38;5;241m+\u001b[39m \u001b[38;5;28mstr\u001b[39m(trainee_w))\n\u001b[1;32m     94\u001b[0m     \u001b[38;5;28mprint\u001b[39m(\u001b[38;5;124m\"\u001b[39m\u001b[38;5;124mExecuting pull(). trainer_w: \u001b[39m\u001b[38;5;124m\"\u001b[39m \u001b[38;5;241m+\u001b[39m \u001b[38;5;28mstr\u001b[39m(trainer_w))\n\u001b[0;32m---> 96\u001b[0m mu_y1, mu_y2, sigma \u001b[38;5;241m=\u001b[39m \u001b[38;5;28;43mself\u001b[39;49m\u001b[38;5;241;43m.\u001b[39;49m\u001b[43mregressors\u001b[49m\u001b[43m[\u001b[49m\u001b[43mkey\u001b[49m\u001b[43m]\u001b[49m\u001b[38;5;241;43m.\u001b[39;49m\u001b[43mcompute\u001b[49m\u001b[43m(\u001b[49m\u001b[38;5;28;43mself\u001b[39;49m\u001b[38;5;241;43m.\u001b[39;49m\u001b[43mbyvariate_actions\u001b[49m\u001b[43m)\u001b[49m\n\u001b[1;32m     97\u001b[0m idx \u001b[38;5;241m=\u001b[39m np\u001b[38;5;241m.\u001b[39margmax(\n\u001b[1;32m     98\u001b[0m     \u001b[38;5;28mself\u001b[39m\u001b[38;5;241m.\u001b[39mbyvariate_actions[:, \u001b[38;5;241m0\u001b[39m] \u001b[38;5;241m*\u001b[39m trainer_w \u001b[38;5;241m*\u001b[39m (mu_y1 \u001b[38;5;241m+\u001b[39m \u001b[38;5;28mself\u001b[39m\u001b[38;5;241m.\u001b[39mbeta \u001b[38;5;241m*\u001b[39m sigma) \u001b[38;5;241m+\u001b[39m \n\u001b[1;32m     99\u001b[0m     \u001b[38;5;28mself\u001b[39m\u001b[38;5;241m.\u001b[39mbyvariate_actions[:, \u001b[38;5;241m1\u001b[39m] \u001b[38;5;241m*\u001b[39m trainee_w \u001b[38;5;241m*\u001b[39m (mu_y2 \u001b[38;5;241m+\u001b[39m \u001b[38;5;28mself\u001b[39m\u001b[38;5;241m.\u001b[39mbeta \u001b[38;5;241m*\u001b[39m sigma)\n\u001b[1;32m    100\u001b[0m )\n\u001b[1;32m    102\u001b[0m \u001b[38;5;28;01mif\u001b[39;00m \u001b[38;5;28mself\u001b[39m\u001b[38;5;241m.\u001b[39mverbose:\n",
      "File \u001b[0;32m~/git/CPP/regressors.py:106\u001b[0m, in \u001b[0;36mDoubleGaussianProcessRegressor.compute\u001b[0;34m(self, x)\u001b[0m\n\u001b[1;32m    102\u001b[0m \u001b[38;5;28;01massert\u001b[39;00m x\u001b[38;5;241m.\u001b[39mshape[\u001b[38;5;241m1\u001b[39m] \u001b[38;5;241m==\u001b[39m \u001b[38;5;28mself\u001b[39m\u001b[38;5;241m.\u001b[39minput_dim, \u001b[38;5;124m\"\u001b[39m\u001b[38;5;124mcompute() function: Error in input dimension\u001b[39m\u001b[38;5;124m\"\u001b[39m\n\u001b[1;32m    104\u001b[0m n \u001b[38;5;241m=\u001b[39m x\u001b[38;5;241m.\u001b[39mshape[\u001b[38;5;241m0\u001b[39m]\n\u001b[0;32m--> 106\u001b[0m K \u001b[38;5;241m=\u001b[39m \u001b[43mkernel_rbf\u001b[49m\u001b[43m(\u001b[49m\u001b[38;5;28;43mself\u001b[39;49m\u001b[38;5;241;43m.\u001b[39;49m\u001b[43mx_vect\u001b[49m\u001b[43m,\u001b[49m\u001b[43m \u001b[49m\u001b[38;5;28;43mself\u001b[39;49m\u001b[38;5;241;43m.\u001b[39;49m\u001b[43mx_vect\u001b[49m\u001b[43m,\u001b[49m\u001b[43m \u001b[49m\u001b[38;5;28;43mself\u001b[39;49m\u001b[38;5;241;43m.\u001b[39;49m\u001b[43mkernel_L\u001b[49m\u001b[43m)\u001b[49m \u001b[38;5;241m+\u001b[39m \u001b[38;5;28mself\u001b[39m\u001b[38;5;241m.\u001b[39msigma_process \u001b[38;5;241m*\u001b[39m np\u001b[38;5;241m.\u001b[39meye(\u001b[38;5;28mself\u001b[39m\u001b[38;5;241m.\u001b[39my1_vect\u001b[38;5;241m.\u001b[39mshape[\u001b[38;5;241m0\u001b[39m])\n\u001b[1;32m    107\u001b[0m K_inv \u001b[38;5;241m=\u001b[39m np\u001b[38;5;241m.\u001b[39mlinalg\u001b[38;5;241m.\u001b[39minv(K)\n\u001b[1;32m    109\u001b[0m y1_mu \u001b[38;5;241m=\u001b[39m np\u001b[38;5;241m.\u001b[39mzeros(n)\n",
      "File \u001b[0;32m~/git/CPP/utils.py:66\u001b[0m, in \u001b[0;36mkernel_rbf\u001b[0;34m(a, b, L)\u001b[0m\n\u001b[1;32m     64\u001b[0m \u001b[38;5;28;01mfor\u001b[39;00m i \u001b[38;5;129;01min\u001b[39;00m \u001b[38;5;28mrange\u001b[39m(a\u001b[38;5;241m.\u001b[39mshape[\u001b[38;5;241m0\u001b[39m]):\n\u001b[1;32m     65\u001b[0m     \u001b[38;5;28;01mfor\u001b[39;00m j \u001b[38;5;129;01min\u001b[39;00m \u001b[38;5;28mrange\u001b[39m(b\u001b[38;5;241m.\u001b[39mshape[\u001b[38;5;241m0\u001b[39m]):\n\u001b[0;32m---> 66\u001b[0m         output[i, j] \u001b[38;5;241m=\u001b[39m np\u001b[38;5;241m.\u001b[39mpower(\u001b[43mnp\u001b[49m\u001b[38;5;241;43m.\u001b[39;49m\u001b[43mlinalg\u001b[49m\u001b[38;5;241;43m.\u001b[39;49m\u001b[43mnorm\u001b[49m\u001b[43m(\u001b[49m\u001b[43ma\u001b[49m\u001b[43m[\u001b[49m\u001b[43mi\u001b[49m\u001b[43m,\u001b[49m\u001b[43m \u001b[49m\u001b[43m:\u001b[49m\u001b[43m]\u001b[49m\u001b[43m \u001b[49m\u001b[38;5;241;43m-\u001b[39;49m\u001b[43m \u001b[49m\u001b[43mb\u001b[49m\u001b[43m[\u001b[49m\u001b[43mj\u001b[49m\u001b[43m,\u001b[49m\u001b[43m \u001b[49m\u001b[43m:\u001b[49m\u001b[43m]\u001b[49m\u001b[43m,\u001b[49m\u001b[43m \u001b[49m\u001b[38;5;241;43m2\u001b[39;49m\u001b[43m)\u001b[49m, \u001b[38;5;241m2\u001b[39m)\n\u001b[1;32m     68\u001b[0m \u001b[38;5;28;01mreturn\u001b[39;00m np\u001b[38;5;241m.\u001b[39mexp(\u001b[38;5;241m-\u001b[39m L \u001b[38;5;241m*\u001b[39m output)\n",
      "File \u001b[0;32m/opt/anaconda3/envs/py39/lib/python3.9/site-packages/numpy/linalg/linalg.py:2553\u001b[0m, in \u001b[0;36mnorm\u001b[0;34m(x, ord, axis, keepdims)\u001b[0m\n\u001b[1;32m   2551\u001b[0m \u001b[38;5;28;01melse\u001b[39;00m:\n\u001b[1;32m   2552\u001b[0m     sqnorm \u001b[38;5;241m=\u001b[39m x\u001b[38;5;241m.\u001b[39mdot(x)\n\u001b[0;32m-> 2553\u001b[0m ret \u001b[38;5;241m=\u001b[39m \u001b[43msqrt\u001b[49m\u001b[43m(\u001b[49m\u001b[43msqnorm\u001b[49m\u001b[43m)\u001b[49m\n\u001b[1;32m   2554\u001b[0m \u001b[38;5;28;01mif\u001b[39;00m keepdims:\n\u001b[1;32m   2555\u001b[0m     ret \u001b[38;5;241m=\u001b[39m ret\u001b[38;5;241m.\u001b[39mreshape(ndim\u001b[38;5;241m*\u001b[39m[\u001b[38;5;241m1\u001b[39m])\n",
      "\u001b[0;31mKeyboardInterrupt\u001b[0m: "
     ]
    },
    {
     "data": {
      "image/png": "[encoded data removed]",
      "text/plain": [
       "<Figure size 640x480 with 1 Axes>"
      ]
     },
     "metadata": {},
     "output_type": "display_data"
    }
   ],
   "source": [
    "for trial_id in range(num_trials):\n",
    "    \n",
    "    results_dict.append({key : {\"res\" : np.zeros((horizon, num_products)), \"act\" : np.zeros((horizon, num_products), dtype=int)}\n",
    "                         for key in algs})\n",
    "    np.random.seed(trial_id)\n",
    "\n",
    "    demands = generate_curves(num_products, num_actions=num_actions)\n",
    "\n",
    "    plt.plot(np.linspace(0.1,1,10),demands.T)\n",
    "    \n",
    "    # print(\"demands: \" + str(demands))\n",
    "    \n",
    "    user_ranges = generate_user_ranges(num_products, user_ranges_overall[0], user_ranges_overall[1])\n",
    "    \n",
    "    # graph_dict = {i : [] for i in range(num_products)}\n",
    "    graph_dict = generate_graph(num_products, num_clusters)\n",
    "\n",
    "    for key in graph_dict.keys():\n",
    "        if len(graph_dict[key]) > 1:\n",
    "            for i in range(1, len(graph_dict[key])):\n",
    "                demands[graph_dict[key][i], :] = demands[graph_dict[key][0], :]\n",
    "\n",
    "    env = IndependentPricingEnv(num_products, num_actions, np.repeat(actions.reshape(1, -1), num_products, axis=0), \n",
    "                                demands, user_ranges, seed=trial_id)\n",
    "    optimal_actions, optimal_values = env.compute_optimal_actions()\n",
    "    \n",
    "\n",
    "    # print(\"demands transformed: \" + str(demands))\n",
    "    \n",
    "    agent = PricingAgentComplementary(num_products, actions, costs, kernel_L, sigma_process, \n",
    "                                      horizon, graph_dict=graph_dict, verbose=False)\n",
    "\n",
    "    for t in tqdm(range(horizon)):\n",
    "        \n",
    "        results_dict[trial_id][\"Indep\"][\"act\"][t, :] = agent.pull()\n",
    "        \n",
    "        res = env.step(results_dict[trial_id][\"Indep\"][\"act\"][t, :])\n",
    "        # print(res)\n",
    "        agent.update(res[:, 0], res[:, 1])\n",
    "        \n",
    "        for i in range(num_products):\n",
    "            \n",
    "            results_dict[trial_id][\"Indep\"][\"res\"][t, i] = res[i, 1] * optimal_values[i] - res[i, 0\n",
    "                ] * actions[results_dict[trial_id][\"Indep\"][\"act\"][t, i]]"
   ]
  },
  {
   "cell_type": "code",
   "execution_count": 6,
   "id": "ce452fc6-b315-4ca5-8b56-50b46c3213d6",
   "metadata": {},
   "outputs": [
    {
     "data": {
      "image/png": "[encoded data removed]",
      "text/plain": [
       "<Figure size 640x480 with 1 Axes>"
      ]
     },
     "metadata": {},
     "output_type": "display_data"
    }
   ],
   "source": [
    "plt.figure()\n",
    "x_plt = np.linspace(0, horizon-1, horizon, dtype=int)\n",
    "\n",
    "for alg in algs:\n",
    "    \n",
    "    aux = np.zeros((num_trials, horizon))\n",
    "    for i in range(num_trials):\n",
    "        aux[i, :] = np.array(results_dict[i][alg][\"res\"]).sum(axis=1)\n",
    "        \n",
    "    results_alg = np.cumsum(aux, axis=1)\n",
    "    results_mean = np.mean(results_alg, axis=0)\n",
    "    results_std = 1.96 * results_alg.std(axis=0) / np.sqrt(num_trials)\n",
    "\n",
    "    plt.plot(x_plt, results_mean[x_plt], label=alg)\n",
    "    plt.fill_between(x_plt, results_mean[x_plt] - results_std[x_plt], results_mean[x_plt] + results_std[x_plt], alpha=0.3)"
   ]
  },
  {
   "cell_type": "code",
   "execution_count": 7,
   "id": "7c5432d8-7303-4845-8237-b6b62e5f44f6",
   "metadata": {},
   "outputs": [
    {
     "data": {
      "text/plain": [
       "array([[0, 0, 0],\n",
       "       [9, 9, 9],\n",
       "       [9, 9, 5],\n",
       "       ...,\n",
       "       [4, 4, 4],\n",
       "       [4, 4, 4],\n",
       "       [4, 4, 4]])"
      ]
     },
     "execution_count": 7,
     "metadata": {},
     "output_type": "execute_result"
    }
   ],
   "source": [
    "results_dict[trial_id][\"Indep\"][\"act\"]"
   ]
  },
  {
   "cell_type": "code",
   "execution_count": 8,
   "id": "d274e8f6-94e6-442d-a183-599415ea1fa2",
   "metadata": {},
   "outputs": [
    {
     "data": {
      "text/plain": [
       "array([4, 4, 4])"
      ]
     },
     "execution_count": 8,
     "metadata": {},
     "output_type": "execute_result"
    }
   ],
   "source": [
    "optimal_actions"
   ]
  },
  {
   "cell_type": "code",
   "execution_count": null,
   "id": "ff3a4fb8-4f8f-40df-ace4-17fc38ef5790",
   "metadata": {},
   "outputs": [],
   "source": []
  }
 ],
 "metadata": {
  "kernelspec": {
   "display_name": "Python 3 (ipykernel)",
   "language": "python",
   "name": "python3"
  },
  "language_info": {
   "codemirror_mode": {
    "name": "ipython",
    "version": 3
   },
   "file_extension": ".py",
   "mimetype": "text/x-python",
   "name": "python",
   "nbconvert_exporter": "python",
   "pygments_lexer": "ipython3",
   "version": "3.9.19"
  }
 },
 "nbformat": 4,
 "nbformat_minor": 5
}
