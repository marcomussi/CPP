{
 "cells": [
  {
   "cell_type": "code",
   "execution_count": 1,
   "id": "d74b94ab-65ff-4b5a-b7f0-0aa366b94ffc",
   "metadata": {},
   "outputs": [],
   "source": [
    "import numpy as np, sys, json, datetime, multiprocessing\n",
    "import matplotlib.pyplot as plt\n",
    "import tikzplotlib as tkz\n",
    "from tqdm.auto import tqdm\n",
    "\n",
    "from efficientregressors import GaussianProcessRegressor, DoubleGaussianProcessRegressor\n",
    "from envs import IndependentPricingEnv, ComplementaryPricingEnv\n",
    "from utils import generate_curves, generate_user_ranges, generate_graph"
   ]
  },
  {
   "cell_type": "code",
   "execution_count": 2,
   "id": "ceafb194-d326-47c2-9a93-a56cc191fd0b",
   "metadata": {},
   "outputs": [],
   "source": [
    "class PricingAgentComplementary: \n",
    "\n",
    "    \n",
    "    def __init__(self, num_products, actions, costs, kernel_L, sigma_process, horizon, graph_dict=None, verbose=True):\n",
    "\n",
    "        self.num_products = num_products\n",
    "        self.num_actions = len(actions)\n",
    "        \n",
    "        self.actions = actions\n",
    "        self.costs = costs\n",
    "        \n",
    "        self.kernel_L = kernel_L\n",
    "        self.sigma_process = sigma_process\n",
    "        \n",
    "        self.horizon = horizon\n",
    "        self.beta = np.log(self.horizon)\n",
    "        \n",
    "        self.interactions_count = 0\n",
    "\n",
    "        self.total_sales = np.zeros(self.num_products)\n",
    "        self.total_impressions = np.zeros(self.num_products)\n",
    "\n",
    "        self.LEAD = \"leader\"\n",
    "        self.FOL = \"followers\"\n",
    "        self.WITH = \"with_leader\"\n",
    "        self.WITHOUT = \"without_leader\"\n",
    "        \n",
    "        self.verbose = verbose\n",
    "        \n",
    "        if graph_dict is None:\n",
    "            self.known_relations = False\n",
    "            # self.interactions_dataset = -1 * np.ones((num_products, horizon, 2))\n",
    "        else:\n",
    "            self.known_relations = True\n",
    "            self.used_graph_dict = graph_dict\n",
    "            self._create_regressors()\n",
    "\n",
    "        if self.verbose:\n",
    "            print(\"num products and actions\", self.num_products, self.num_actions)\n",
    "            print(\"actions\", self.actions)\n",
    "            print(\"costs\", self.costs)\n",
    "            print(\"horizon and beta\", self.horizon, self.beta)\n",
    "            print(\"total sales\", self.total_sales)\n",
    "            print(\"byvariate_actions\", self.byvariate_actions)\n",
    "            print(\"byvariate_actions_map\", self.byvariate_actions_map)\n",
    "            print(\"used_graph_dict\", self.used_graph_dict)\n",
    "\n",
    "    \n",
    "    def pull(self):\n",
    "\n",
    "        if self.verbose:\n",
    "            print(\"Executing pull(). Interaction count before this: \" + str(self.interactions_count))\n",
    "        \n",
    "        if self.interactions_count == 0:\n",
    "            \n",
    "            self.last_actions_vect = np.zeros(self.num_products, dtype=int)\n",
    "        \n",
    "        else:\n",
    "\n",
    "            self.last_actions_vect = -1 * np.ones(self.num_products, dtype=int)\n",
    "            \n",
    "            if self.known_relations:\n",
    "\n",
    "                if self.verbose:\n",
    "                    print(\"Executing pull(). self.used_graph_dict.keys(): \" + str(self.used_graph_dict.keys()))\n",
    "                \n",
    "                for key in list(self.used_graph_dict.keys()):\n",
    "\n",
    "                    if self.verbose:\n",
    "                        print(\"Executing pull(). running for cicle for key: \" + str(key))\n",
    "\n",
    "                    mu_leader, sigma_leader = self.regressors[key][self.LEAD].compute(self.actions.reshape(self.num_actions, 1))\n",
    "                    \n",
    "                    if len(self.used_graph_dict[key]) == 0: \n",
    "\n",
    "                        if self.verbose:\n",
    "                            print(\"Executing pull(). We have \" + str(len(self.used_graph_dict[key])) + \"trained products: we use single regressor\")\n",
    "                        \n",
    "                        self.last_actions_vect[key] = np.argmax(self.actions * (mu_leader + self.beta * sigma_leader))\n",
    "                        \n",
    "                    else: \n",
    "                        \n",
    "                        trainee_lst = self.used_graph_dict[key]\n",
    "                        follower_impressions_vect = np.array([self.total_impressions[trainee_lst[i]] for i in range(len(trainee_lst))])\n",
    "                        follower_costs_vect = np.array([self.costs[trainee_lst[i]] for i in range(len(trainee_lst))])\n",
    "                        follower_w_vect = follower_impressions_vect * follower_costs_vect\n",
    "                        leader_w = self.total_impressions[key] * self.costs[key]\n",
    "\n",
    "                        if self.verbose:\n",
    "                            print(\"Executing pull(). We have \" + str(len(self.used_graph_dict[key])) + \"trained products: we use double regressor\")\n",
    "                            print(\"Executing pull(). trainee_lst: \" + str(trainee_lst))\n",
    "                            print(\"Executing pull(). follower_impressions_vect: \" + str(follower_impressions_vect))\n",
    "                            print(\"Executing pull(). follower_costs_vect: \" + str(follower_costs_vect))\n",
    "                            print(\"Executing pull(). follower_w_vect: \" + str(follower_w_vect))\n",
    "                            print(\"Executing pull(). leader_w: \" + str(leader_w))\n",
    "\n",
    "                        mu_follower_with_leader = np.zeros((len(trainee_lst), self.num_actions))\n",
    "                        mu_follower_without_leader = np.zeros((len(trainee_lst), self.num_actions))\n",
    "                        sigma_follower_with_leader = np.zeros((len(trainee_lst), self.num_actions))\n",
    "                        sigma_follower_without_leader = np.zeros((len(trainee_lst), self.num_actions))\n",
    "                        \n",
    "                        for i in range(len(trainee_lst)):\n",
    "                            mu_follower_with_leader[i, :], sigma_follower_with_leader[i, :] = self.regressors[key][self.FOL][i][self.WITH].compute(self.actions.reshape(self.num_actions, 1))\n",
    "                            mu_follower_without_leader[i, :], sigma_follower_without_leader[i, :] = self.regressors[key][self.FOL][i][self.WITHOUT].compute(self.actions.reshape(self.num_actions, 1))\n",
    "\n",
    "                        max_value = 0.0\n",
    "                        max_idxs = (-1, -1)\n",
    "                        \n",
    "                        for action_leader_idx, action_leader_value in enumerate(list(self.actions)):\n",
    "\n",
    "                            value_leader = leader_w * (mu_leader[action_leader_idx] + self.beta * \n",
    "                                                       sigma_leader[action_leader_idx]) * action_leader_value\n",
    "                            \n",
    "                            for action_follower_idx, action_follower_value in enumerate(list(self.actions)):\n",
    "\n",
    "                                value_follower = value_leader\n",
    "\n",
    "                                for i in range(len(trainee_lst)):\n",
    "                                    \n",
    "                                    \"\"\"value_follower = value_follower + follower_w_vect[i] * (\n",
    "                                        (mu_follower_with_leader[i, action_follower_idx] + self.beta * \n",
    "                                         sigma_follower_with_leader[i, action_follower_idx]) * (mu_leader[action_leader_idx] + self.beta * \n",
    "                                         sigma_leader[action_leader_idx]) + \n",
    "                                        (mu_follower_without_leader[i, action_follower_idx] + self.beta * \n",
    "                                         sigma_follower_without_leader[i, action_follower_idx]) * ((1 - mu_leader[action_leader_idx]) + self.beta * \n",
    "                                         sigma_leader[action_leader_idx]) \n",
    "                                    ) * action_follower_value\"\"\"\n",
    "                                    value_follower = value_follower + follower_w_vect[i] * (\n",
    "                                        (mu_follower_with_leader[i, action_follower_idx] + self.beta * \n",
    "                                         sigma_follower_with_leader[i, action_follower_idx]) * mu_leader[action_leader_idx] + \n",
    "                                        (mu_follower_without_leader[i, action_follower_idx] + self.beta * \n",
    "                                         sigma_follower_without_leader[i, action_follower_idx]) * (1 - mu_leader[action_leader_idx]) \n",
    "                                    ) * action_follower_value\n",
    "                                if value_follower >= max_value:\n",
    "                                    max_value = value_follower\n",
    "                                    max_idxs = (action_leader_idx, action_follower_idx)\n",
    "                        \n",
    "                        self.last_actions_vect[key] = max_idxs[0]\n",
    "                        for i in range(len(trainee_lst)):\n",
    "                            self.last_actions_vect[trainee_lst[i]] = max_idxs[1]\n",
    "                        \n",
    "            else:\n",
    "                \n",
    "                raise NotImplementedError(\"unknown graph scenario not implemented\")     \n",
    "\n",
    "        if self.verbose:\n",
    "            print(\"Executing pull(). Playing: \" + str(self.last_actions_vect))\n",
    "        \n",
    "        return self.last_actions_vect\n",
    "            \n",
    "    \n",
    "    def update(self, cumul_mx, impressions_mx, sales_mx):\n",
    "        \n",
    "        assert cumul_mx.shape == (self.num_products, 2), \"update(): error in input\"\n",
    "        assert impressions_mx.ndim == 2, \"update(): error in input\"\n",
    "        assert impressions_mx.shape == sales_mx.shape, \"update(): error in input\"\n",
    "        assert impressions_mx.shape[0] == self.num_products, \"update(): error in input\"\n",
    "\n",
    "        self.total_sales = self.total_sales + cumul_mx[:, 0]\n",
    "        self.total_impressions = self.total_impressions + cumul_mx[:, 1]\n",
    "        \n",
    "        rewards = cumul_mx[:, 0] / cumul_mx[:, 1]\n",
    "        \n",
    "        if self.known_relations:\n",
    "            \n",
    "            for key in list(self.used_graph_dict.keys()):\n",
    "\n",
    "                self.regressors[key][self.LEAD].update_data(self.actions[self.last_actions_vect[key]], rewards[key])\n",
    "\n",
    "                trainee_lst = self.used_graph_dict[key]\n",
    "                leader_sales = sales_mx[key, :]\n",
    "                mask_leader_sales = leader_sales == 1\n",
    "                \n",
    "                for i, elem in enumerate(trainee_lst): \n",
    "\n",
    "                    follower_impressions = impressions_mx[elem, :]\n",
    "                    follower_sales = sales_mx[elem, :]\n",
    "                    \n",
    "                    impressions_without_leader = np.sum(follower_impressions[np.logical_not(mask_leader_sales)])\n",
    "                    if impressions_without_leader > 0:\n",
    "                        sales_without_leader = np.sum(follower_sales[np.logical_not(mask_leader_sales)])\n",
    "                        reward_without_leader = sales_without_leader / impressions_without_leader\n",
    "                        self.regressors[key][self.FOL][i][self.WITHOUT].update_data(self.actions[self.last_actions_vect[elem]], reward_without_leader)\n",
    "                        \n",
    "                    impressions_with_leader = np.sum(follower_impressions[mask_leader_sales])\n",
    "                    if impressions_with_leader > 0:\n",
    "                        sales_with_leader = np.sum(follower_sales[mask_leader_sales])\n",
    "                        reward_with_leader = sales_with_leader / impressions_with_leader\n",
    "                        self.regressors[key][self.FOL][i][self.WITH].update_data(self.actions[self.last_actions_vect[elem]], reward_with_leader)\n",
    "        \n",
    "        else:\n",
    "            \n",
    "            self._update_graph_data()\n",
    "\n",
    "            raise NotImplementedError(\"unknown graph scenario not implemented\")\n",
    "\n",
    "        self.interactions_count += 1\n",
    "\n",
    "    \n",
    "    def _create_regressors(self):\n",
    "\n",
    "        self.regressors = {}\n",
    "        \n",
    "        for key in list(self.used_graph_dict.keys()):\n",
    "            if len(self.used_graph_dict[key]) == 0: \n",
    "                self.regressors[key] = {}\n",
    "                self.regressors[key][self.LEAD] = GaussianProcessRegressor(self.kernel_L, self.sigma_process, 1)\n",
    "            else: \n",
    "                self.regressors[key] = {}\n",
    "                self.regressors[key][self.LEAD] = GaussianProcessRegressor(self.kernel_L, self.sigma_process, 1)\n",
    "                self.regressors[key][self.FOL] = []\n",
    "                for _ in range(len(self.used_graph_dict[key])):\n",
    "                    self.regressors[key][self.FOL].append({\n",
    "                        self.WITH: GaussianProcessRegressor(self.kernel_L, self.sigma_process, 1), \n",
    "                        self.WITHOUT: GaussianProcessRegressor(self.kernel_L, self.sigma_process, 1)\n",
    "                    })\n",
    "                    \n",
    "        if self.verbose:\n",
    "            print(\"Created regressors: \" + str(self.regressors) + \" from dict: \" + str(self.used_graph_dict))\n",
    "\n",
    "    \n",
    "    def _update_graph_data(self):\n",
    "\n",
    "        raise NotImplementedError(\"unknown graph scenario not implemented\")"
   ]
  },
  {
   "cell_type": "code",
   "execution_count": 3,
   "id": "bd4c4f0c-f632-4473-bae0-d5009db969fc",
   "metadata": {
    "scrolled": true
   },
   "outputs": [
    {
     "data": {
      "application/vnd.jupyter.widget-view+json": {
       "model_id": "10c0957f278746f89ffc055bc860526f",
       "version_major": 2,
       "version_minor": 0
      },
      "text/plain": [
       "  0%|          | 0/1000 [00:00<?, ?it/s]"
      ]
     },
     "metadata": {},
     "output_type": "display_data"
    },
    {
     "data": {
      "application/vnd.jupyter.widget-view+json": {
       "model_id": "a0a703821c5b4d38be04e338f8d2d257",
       "version_major": 2,
       "version_minor": 0
      },
      "text/plain": [
       "  0%|          | 0/1000 [00:00<?, ?it/s]"
      ]
     },
     "metadata": {},
     "output_type": "display_data"
    },
    {
     "data": {
      "application/vnd.jupyter.widget-view+json": {
       "model_id": "4add0240381b42b2b033941250d979d7",
       "version_major": 2,
       "version_minor": 0
      },
      "text/plain": [
       "  0%|          | 0/1000 [00:00<?, ?it/s]"
      ]
     },
     "metadata": {},
     "output_type": "display_data"
    },
    {
     "data": {
      "application/vnd.jupyter.widget-view+json": {
       "model_id": "90c1ffb73ef54977a7f7fcf26834213f",
       "version_major": 2,
       "version_minor": 0
      },
      "text/plain": [
       "  0%|          | 0/1000 [00:00<?, ?it/s]"
      ]
     },
     "metadata": {},
     "output_type": "display_data"
    },
    {
     "data": {
      "application/vnd.jupyter.widget-view+json": {
       "model_id": "e9e07c3876ae476282bf47adc3f733ec",
       "version_major": 2,
       "version_minor": 0
      },
      "text/plain": [
       "  0%|          | 0/1000 [00:00<?, ?it/s]"
      ]
     },
     "metadata": {},
     "output_type": "display_data"
    },
    {
     "data": {
      "application/vnd.jupyter.widget-view+json": {
       "model_id": "83dbbd1aa51e474086d6bf6a03669301",
       "version_major": 2,
       "version_minor": 0
      },
      "text/plain": [
       "  0%|          | 0/1000 [00:00<?, ?it/s]"
      ]
     },
     "metadata": {},
     "output_type": "display_data"
    },
    {
     "data": {
      "application/vnd.jupyter.widget-view+json": {
       "model_id": "86eeefb93bcf40b489bc3f217082420d",
       "version_major": 2,
       "version_minor": 0
      },
      "text/plain": [
       "  0%|          | 0/1000 [00:00<?, ?it/s]"
      ]
     },
     "metadata": {},
     "output_type": "display_data"
    },
    {
     "data": {
      "application/vnd.jupyter.widget-view+json": {
       "model_id": "0e6c7eed1b544fbaada1947ee2c34e0a",
       "version_major": 2,
       "version_minor": 0
      },
      "text/plain": [
       "  0%|          | 0/1000 [00:00<?, ?it/s]"
      ]
     },
     "metadata": {},
     "output_type": "display_data"
    },
    {
     "data": {
      "application/vnd.jupyter.widget-view+json": {
       "model_id": "70527cafe5144fc6adc752cd12c4bc94",
       "version_major": 2,
       "version_minor": 0
      },
      "text/plain": [
       "  0%|          | 0/1000 [00:00<?, ?it/s]"
      ]
     },
     "metadata": {},
     "output_type": "display_data"
    },
    {
     "data": {
      "application/vnd.jupyter.widget-view+json": {
       "model_id": "361249db28d144a0933a8107076fb676",
       "version_major": 2,
       "version_minor": 0
      },
      "text/plain": [
       "  0%|          | 0/1000 [00:00<?, ?it/s]"
      ]
     },
     "metadata": {},
     "output_type": "display_data"
    },
    {
     "data": {
      "application/vnd.jupyter.widget-view+json": {
       "model_id": "c2aeb2aaedfb47eda324e7967bb611a1",
       "version_major": 2,
       "version_minor": 0
      },
      "text/plain": [
       "  0%|          | 0/1000 [00:00<?, ?it/s]"
      ]
     },
     "metadata": {},
     "output_type": "display_data"
    },
    {
     "data": {
      "application/vnd.jupyter.widget-view+json": {
       "model_id": "38dc7698468c411f914c53752aff7d7e",
       "version_major": 2,
       "version_minor": 0
      },
      "text/plain": [
       "  0%|          | 0/1000 [00:00<?, ?it/s]"
      ]
     },
     "metadata": {},
     "output_type": "display_data"
    },
    {
     "data": {
      "application/vnd.jupyter.widget-view+json": {
       "model_id": "2ece319354754889ab143bb7643837a6",
       "version_major": 2,
       "version_minor": 0
      },
      "text/plain": [
       "  0%|          | 0/1000 [00:00<?, ?it/s]"
      ]
     },
     "metadata": {},
     "output_type": "display_data"
    },
    {
     "data": {
      "application/vnd.jupyter.widget-view+json": {
       "model_id": "64d6fcc1fa1e4cc2b66c8f86315d7106",
       "version_major": 2,
       "version_minor": 0
      },
      "text/plain": [
       "  0%|          | 0/1000 [00:00<?, ?it/s]"
      ]
     },
     "metadata": {},
     "output_type": "display_data"
    },
    {
     "data": {
      "application/vnd.jupyter.widget-view+json": {
       "model_id": "c95518709295438d8f4203b8fb6762fa",
       "version_major": 2,
       "version_minor": 0
      },
      "text/plain": [
       "  0%|          | 0/1000 [00:00<?, ?it/s]"
      ]
     },
     "metadata": {},
     "output_type": "display_data"
    },
    {
     "data": {
      "application/vnd.jupyter.widget-view+json": {
       "model_id": "6fd77a7c98004015bc9cd6b83586a42d",
       "version_major": 2,
       "version_minor": 0
      },
      "text/plain": [
       "  0%|          | 0/1000 [00:00<?, ?it/s]"
      ]
     },
     "metadata": {},
     "output_type": "display_data"
    },
    {
     "data": {
      "application/vnd.jupyter.widget-view+json": {
       "model_id": "00e99185255d4e5faaf31e474875b734",
       "version_major": 2,
       "version_minor": 0
      },
      "text/plain": [
       "  0%|          | 0/1000 [00:00<?, ?it/s]"
      ]
     },
     "metadata": {},
     "output_type": "display_data"
    },
    {
     "data": {
      "application/vnd.jupyter.widget-view+json": {
       "model_id": "71f9b53b9d87420aba4d43d12cd0a5a9",
       "version_major": 2,
       "version_minor": 0
      },
      "text/plain": [
       "  0%|          | 0/1000 [00:00<?, ?it/s]"
      ]
     },
     "metadata": {},
     "output_type": "display_data"
    },
    {
     "data": {
      "application/vnd.jupyter.widget-view+json": {
       "model_id": "054a57ceda53420a985e0c4345060d3b",
       "version_major": 2,
       "version_minor": 0
      },
      "text/plain": [
       "  0%|          | 0/1000 [00:00<?, ?it/s]"
      ]
     },
     "metadata": {},
     "output_type": "display_data"
    },
    {
     "data": {
      "application/vnd.jupyter.widget-view+json": {
       "model_id": "2d2dfd1afc5448b8b5a49d716301c29c",
       "version_major": 2,
       "version_minor": 0
      },
      "text/plain": [
       "  0%|          | 0/1000 [00:00<?, ?it/s]"
      ]
     },
     "metadata": {},
     "output_type": "display_data"
    },
    {
     "data": {
      "text/plain": [
       "<matplotlib.legend.Legend at 0x7fe52073a7c0>"
      ]
     },
     "execution_count": 3,
     "metadata": {},
     "output_type": "execute_result"
    },
    {
     "data": {
      "image/png": "[encoded data removed]",
      "text/plain": [
       "<Figure size 640x480 with 1 Axes>"
      ]
     },
     "metadata": {},
     "output_type": "display_data"
    }
   ],
   "source": [
    "num_actions = 10\n",
    "num_products = 2\n",
    "num_clusters = 1\n",
    "horizon = 1000\n",
    "min_users = 20\n",
    "max_users = 30\n",
    "compl_factor_add = 0.3\n",
    "compl_factor_molt = 1.4\n",
    "user_ranges_overall = [min_users, max_users]\n",
    "sigma_process = 1 / 2 # (2 * np.sqrt(min_users))\n",
    "actions = np.linspace(0.1, 1.0, num_actions)\n",
    "costs = np.ones(num_products) # np.random.uniform(1, 2, num_products)\n",
    "kernel_L = 5\n",
    "mc_ep = 1000\n",
    "\n",
    "known_graph = \"known_graph\"\n",
    "unknown_graph = \"unknown_graph\"\n",
    "independent = \"independent\"\n",
    "algs = [known_graph, independent]\n",
    "\n",
    "num_trials = 10\n",
    "\n",
    "results_dict = []\n",
    "\n",
    "for trial_id in range(num_trials):\n",
    "    \n",
    "    np.random.seed(trial_id)\n",
    "\n",
    "    results_dict.append({alg : {\"res\" : np.zeros((horizon)), \"act\" : np.zeros((horizon, num_products), dtype=int)} for alg in algs})\n",
    "    \n",
    "    demands = generate_curves(num_products, num_actions=num_actions, min_start=0.3, max_start=0.5)\n",
    "    \n",
    "    user_ranges = generate_user_ranges(num_products, user_ranges_overall[0], user_ranges_overall[1])\n",
    "    \n",
    "    graph_dict = generate_graph(num_products, num_clusters)\n",
    "    graph_dict_indep = {i: [] for i in range(num_products)}\n",
    "\n",
    "    for key in graph_dict.keys():\n",
    "        if len(graph_dict[key]) > 1:\n",
    "            for i in range(1, len(graph_dict[key])):\n",
    "                demands[graph_dict[key][i], :] = demands[graph_dict[key][0], :]\n",
    "\n",
    "    env = ComplementaryPricingEnv(num_products, num_actions, actions, demands, costs, user_ranges, \n",
    "                                  graph_dict, compl_factor_add, compl_factor_molt, mc_ep, trial_id)\n",
    "    optimal_actions, optimal_value = env.compute_optimum()\n",
    "    \n",
    "    agent_independent = PricingAgentComplementary(num_products, actions, costs, kernel_L, sigma_process, \n",
    "                                      horizon, graph_dict=graph_dict_indep, verbose=False)\n",
    "\n",
    "    for t in tqdm(range(horizon)):\n",
    "        results_dict[trial_id][independent][\"act\"][t, :] = agent_independent.pull()\n",
    "        cumul_mx, impressions_mx, sales_mx = env.step(results_dict[trial_id][independent][\"act\"][t, :])\n",
    "        agent_independent.update(cumul_mx, impressions_mx, sales_mx)\n",
    "        results_dict[trial_id][independent][\"res\"][t] = optimal_value\n",
    "        for i in range(num_products):\n",
    "            results_dict[trial_id][independent][\"res\"][t] = results_dict[trial_id][independent][\"res\"][t] - cumul_mx[i, 0] * actions[results_dict[trial_id][independent][\"act\"][t, i]]\n",
    "\n",
    "    agent_known_graph = PricingAgentComplementary(num_products, actions, costs, kernel_L, sigma_process, \n",
    "                                      horizon, graph_dict=graph_dict, verbose=False)\n",
    "\n",
    "    for t in tqdm(range(horizon)):\n",
    "        results_dict[trial_id][known_graph][\"act\"][t, :] = agent_known_graph.pull()\n",
    "        cumul_mx, impressions_mx, sales_mx = env.step(results_dict[trial_id][known_graph][\"act\"][t, :])\n",
    "        agent_known_graph.update(cumul_mx, impressions_mx, sales_mx)\n",
    "        results_dict[trial_id][known_graph][\"res\"][t] = optimal_value\n",
    "        for i in range(num_products):\n",
    "            results_dict[trial_id][known_graph][\"res\"][t] = results_dict[trial_id][known_graph][\"res\"][t] - cumul_mx[i, 0] * actions[results_dict[trial_id][known_graph][\"act\"][t, i]]\n",
    "\n",
    "plt.figure()\n",
    "x_plt = np.linspace(0, horizon-1, horizon, dtype=int)\n",
    "for alg in algs:\n",
    "    aux = np.zeros((num_trials, horizon))\n",
    "    for i in range(num_trials):\n",
    "        aux[i, :] = np.array(results_dict[i][alg][\"res\"])\n",
    "    results_alg = np.cumsum(aux, axis=1)\n",
    "    results_mean = np.mean(results_alg, axis=0)\n",
    "    results_std = 1.96 * results_alg.std(axis=0) / np.sqrt(num_trials)\n",
    "    plt.plot(x_plt, results_mean[x_plt], label=alg)\n",
    "    plt.fill_between(x_plt, results_mean[x_plt] - results_std[x_plt], results_mean[x_plt] + results_std[x_plt], alpha=0.3)\n",
    "plt.legend()"
   ]
  },
  {
   "cell_type": "code",
   "execution_count": null,
   "id": "3c2a6c1c-8bbe-4d1c-b379-69765feb1310",
   "metadata": {},
   "outputs": [],
   "source": []
  }
 ],
 "metadata": {
  "kernelspec": {
   "display_name": "Python 3 (ipykernel)",
   "language": "python",
   "name": "python3"
  },
  "language_info": {
   "codemirror_mode": {
    "name": "ipython",
    "version": 3
   },
   "file_extension": ".py",
   "mimetype": "text/x-python",
   "name": "python",
   "nbconvert_exporter": "python",
   "pygments_lexer": "ipython3",
   "version": "3.9.19"
  }
 },
 "nbformat": 4,
 "nbformat_minor": 5
}
