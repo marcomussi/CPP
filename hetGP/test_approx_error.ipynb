{
 "cells": [
  {
   "cell_type": "code",
   "execution_count": 1,
   "id": "ea70dfa9-1839-4fc3-8105-352aea69755a",
   "metadata": {},
   "outputs": [],
   "source": [
    "import numpy as np\n",
    "import matplotlib.pyplot as plt"
   ]
  },
  {
   "cell_type": "code",
   "execution_count": 2,
   "id": "4d0ba800-4b18-460c-a1b9-56fef0499d13",
   "metadata": {},
   "outputs": [],
   "source": [
    "def kernel_rbf(a, b, L): \n",
    "    output = -1 * np.ones((a.shape[0], b.shape[0])) \n",
    "    for i in range(a.shape[0]):\n",
    "        for j in range(b.shape[0]):\n",
    "            output[i, j] = np.power(np.linalg.norm(a[i, :] - b[j, :], 2), 2)\n",
    "    return np.exp(- L * output)"
   ]
  },
  {
   "cell_type": "code",
   "execution_count": 3,
   "id": "95082ea5-c20e-47ee-aa4e-8e0d67a412c4",
   "metadata": {},
   "outputs": [],
   "source": [
    "class GaussianProcessRegressor: \n",
    "\n",
    "    def __init__(self, kernel_L, sigma_sq_process, input_dim):\n",
    "        self.kernel_L = kernel_L\n",
    "        self.sigma_sq_process = sigma_sq_process  \n",
    "        self.input_dim = input_dim\n",
    "\n",
    "    def load_data(self, x, y):\n",
    "        n = x.shape[0]\n",
    "        self.x_vect = np.array([x]).reshape(n, self.input_dim)\n",
    "        self.y_vect = np.array([y]).reshape(n, 1)\n",
    "        self.K_matrix = kernel_rbf(self.x_vect, self.x_vect, self.kernel_L) + self.sigma_sq_process * np.eye(n)\n",
    "        self.K_matrix_inv = np.linalg.inv(self.K_matrix)\n",
    "    \n",
    "    def compute(self, x):\n",
    "        assert x.ndim == 2 and x.shape[1] == self.input_dim, \"compute() function: Error in input dimension\"\n",
    "        n = x.shape[0]\n",
    "        mu = np.zeros(n)\n",
    "        sigma = np.zeros(n)\n",
    "        for i in range(n):\n",
    "            K_star = kernel_rbf(self.x_vect, x[i, :].reshape(1, self.input_dim), self.kernel_L)\n",
    "            mu[i] = K_star.T @ self.K_matrix_inv @ self.y_vect\n",
    "            sigma[i] = kernel_rbf(x[i, :].reshape(1, self.input_dim), x[i, :].reshape(1, self.input_dim), self.kernel_L) - K_star.T @ self.K_matrix_inv @ K_star\n",
    "        return mu, sigma"
   ]
  },
  {
   "cell_type": "code",
   "execution_count": 4,
   "id": "7e7810dd-37c1-472f-8b6d-df50f39d3e69",
   "metadata": {},
   "outputs": [
    {
     "name": "stderr",
     "output_type": "stream",
     "text": [
      "/var/folders/58/jk09dpw90wv_97d9nbc3mnn00000gn/T/ipykernel_12654/479082720.py:22: DeprecationWarning: Conversion of an array with ndim > 0 to a scalar is deprecated, and will error in future. Ensure you extract a single element from your array before performing this operation. (Deprecated NumPy 1.25.)\n",
      "  mu[i] = K_star.T @ self.K_matrix_inv @ self.y_vect\n",
      "/var/folders/58/jk09dpw90wv_97d9nbc3mnn00000gn/T/ipykernel_12654/479082720.py:23: DeprecationWarning: Conversion of an array with ndim > 0 to a scalar is deprecated, and will error in future. Ensure you extract a single element from your array before performing this operation. (Deprecated NumPy 1.25.)\n",
      "  sigma[i] = kernel_rbf(x[i, :].reshape(1, self.input_dim), x[i, :].reshape(1, self.input_dim), self.kernel_L) - K_star.T @ self.K_matrix_inv @ K_star\n",
      "/var/folders/58/jk09dpw90wv_97d9nbc3mnn00000gn/T/ipykernel_12654/479082720.py:22: DeprecationWarning: Conversion of an array with ndim > 0 to a scalar is deprecated, and will error in future. Ensure you extract a single element from your array before performing this operation. (Deprecated NumPy 1.25.)\n",
      "  mu[i] = K_star.T @ self.K_matrix_inv @ self.y_vect\n",
      "/var/folders/58/jk09dpw90wv_97d9nbc3mnn00000gn/T/ipykernel_12654/479082720.py:23: DeprecationWarning: Conversion of an array with ndim > 0 to a scalar is deprecated, and will error in future. Ensure you extract a single element from your array before performing this operation. (Deprecated NumPy 1.25.)\n",
      "  sigma[i] = kernel_rbf(x[i, :].reshape(1, self.input_dim), x[i, :].reshape(1, self.input_dim), self.kernel_L) - K_star.T @ self.K_matrix_inv @ K_star\n"
     ]
    },
    {
     "data": {
      "text/plain": [
       "<matplotlib.legend.Legend at 0x7fc9abcf3eb0>"
      ]
     },
     "execution_count": 4,
     "metadata": {},
     "output_type": "execute_result"
    },
    {
     "data": {
      "image/png": "[encoded data removed]",
      "text/plain": [
       "<Figure size 640x480 with 1 Axes>"
      ]
     },
     "metadata": {},
     "output_type": "display_data"
    }
   ],
   "source": [
    "kernel_L = 5\n",
    "base_sigma_sq = 0.25\n",
    "n_samples = 5000\n",
    "x_plt = np.linspace(0, 1, 100) # plot 100 samples\n",
    "function_expected = lambda x  : 0.5 * x + 0.25\n",
    "\n",
    "np.random.seed(1)\n",
    "data_x = np.random.uniform(0, 1, n_samples)\n",
    "values_exp = function_expected(data_x)\n",
    "data_y = np.array(np.random.uniform(0, 1, n_samples) < values_exp, dtype=int)\n",
    "\n",
    "approx_data_x = np.round(data_x, 1)\n",
    "approx_regressor = GaussianProcessRegressor(kernel_L, base_sigma_sq, 1)\n",
    "approx_regressor.load_data(approx_data_x, data_y)\n",
    "y_hat, y_sigma = approx_regressor.compute(x_plt.reshape(-1, 1))\n",
    "\n",
    "plt.plot(x_plt, y_hat, color=\"orange\", label=\"Approx GP\")\n",
    "plt.fill_between(x_plt, y_hat - y_sigma, y_hat + y_sigma, color=\"orange\", alpha=0.2)\n",
    "\n",
    "regressor = GaussianProcessRegressor(kernel_L, base_sigma_sq, 1)\n",
    "regressor.load_data(data_x, data_y)\n",
    "# regressor.K_matrix_inv = approx_regressor.K_matrix_inv\n",
    "# regressor.K_matrix_inv = 4 * np.eye(n_samples)\n",
    "y_hat, y_sigma = regressor.compute(x_plt.reshape(-1, 1))\n",
    "\n",
    "plt.plot(x_plt, y_hat, color=\"blue\", label=\"True GP\")\n",
    "plt.fill_between(x_plt, y_hat - y_sigma, y_hat + y_sigma, color=\"blue\", alpha=0.2)\n",
    "# plt.scatter(data_x, data_y, color=\"blue\", label=\"True GP Data\")\n",
    "\n",
    "plt.plot(x_plt, function_expected(x_plt), label=\"Real\")\n",
    "\n",
    "plt.xlim([0, 1])\n",
    "plt.ylim([- 0.03, 1.03])\n",
    "plt.legend()"
   ]
  },
  {
   "cell_type": "code",
   "execution_count": 9,
   "id": "40be08b3-ca1c-49c3-8ad1-7c5e7a08dd39",
   "metadata": {},
   "outputs": [],
   "source": [
    "target = 0.245\n",
    "\n",
    "K_star = kernel_rbf(regressor.x_vect, np.array([target]).reshape(1, regressor.input_dim), regressor.kernel_L)\n",
    "approx_K_star = kernel_rbf(approx_regressor.x_vect, np.array([target]).reshape(1, approx_regressor.input_dim), approx_regressor.kernel_L)"
   ]
  },
  {
   "cell_type": "code",
   "execution_count": 10,
   "id": "f70547fe-c572-4232-b965-d4bc1ca03183",
   "metadata": {},
   "outputs": [
    {
     "data": {
      "text/plain": [
       "\"\\nprint(f'K_star:\\t\\t\\t\\t\\t\\t\\t{np.round(K_star.T, 2)}')\\nprint(f'approx_K_star:\\t\\t\\t\\t\\t\\t{np.round(approx_K_star.T, 2)}')\\nprint(f'K_star.T @ regressor.K_matrix_inv:\\t\\t\\t{np.round(K_star.T @ regressor.K_matrix_inv, 2)}')\\nprint(f'approx_K_star.T @ approx_regressor.K_matrix_inv:\\t{np.round(approx_K_star.T @ approx_regressor.K_matrix_inv, 2)}')\\nprint(f'K_star.T @ approx_regressor.K_matrix_inv:\\t\\t{np.round(K_star.T @ approx_regressor.K_matrix_inv, 2)}')\\nprint(f'approx_K_star.T @ regressor.K_matrix_inv:\\t\\t{np.round(approx_K_star.T @ regressor.K_matrix_inv, 2)}')\\n\""
      ]
     },
     "execution_count": 10,
     "metadata": {},
     "output_type": "execute_result"
    }
   ],
   "source": [
    "\"\"\"\n",
    "print(f'K_star:\\t\\t\\t\\t\\t\\t\\t{np.round(K_star.T, 2)}')\n",
    "print(f'approx_K_star:\\t\\t\\t\\t\\t\\t{np.round(approx_K_star.T, 2)}')\n",
    "print(f'K_star.T @ regressor.K_matrix_inv:\\t\\t\\t{np.round(K_star.T @ regressor.K_matrix_inv, 2)}')\n",
    "print(f'approx_K_star.T @ approx_regressor.K_matrix_inv:\\t{np.round(approx_K_star.T @ approx_regressor.K_matrix_inv, 2)}')\n",
    "print(f'K_star.T @ approx_regressor.K_matrix_inv:\\t\\t{np.round(K_star.T @ approx_regressor.K_matrix_inv, 2)}')\n",
    "print(f'approx_K_star.T @ regressor.K_matrix_inv:\\t\\t{np.round(approx_K_star.T @ regressor.K_matrix_inv, 2)}')\n",
    "\"\"\""
   ]
  },
  {
   "cell_type": "code",
   "execution_count": 11,
   "id": "f8719c3a-4634-40a3-8653-31b1a6b88432",
   "metadata": {},
   "outputs": [
    {
     "name": "stdout",
     "output_type": "stream",
     "text": [
      "approx_K_star.T @ approx_regressor.K_matrix_inv:\t0.01\n",
      "K_star.T @ approx_regressor.K_matrix_inv:\t\t10.29\n",
      "approx_K_star.T @ regressor.K_matrix_inv:\t\t10.58\n"
     ]
    }
   ],
   "source": [
    "target_vect = K_star.T @ regressor.K_matrix_inv\n",
    "\n",
    "print(f'approx_K_star.T @ approx_regressor.K_matrix_inv:\\t{np.round(np.linalg.norm(approx_K_star.T @ approx_regressor.K_matrix_inv - target_vect, 2), 2)}')\n",
    "print(f'K_star.T @ approx_regressor.K_matrix_inv:\\t\\t{np.round(np.linalg.norm(K_star.T @ approx_regressor.K_matrix_inv - target_vect, 2), 2)}')\n",
    "print(f'approx_K_star.T @ regressor.K_matrix_inv:\\t\\t{np.round(np.linalg.norm(approx_K_star.T @ regressor.K_matrix_inv - target_vect, 2), 2)}')"
   ]
  },
  {
   "cell_type": "code",
   "execution_count": 8,
   "id": "73adc2d4-a6bc-4172-b87c-d0fda6df069f",
   "metadata": {},
   "outputs": [
    {
     "data": {
      "text/plain": [
       "\"\\n%matplotlib qt\\n\\nfig = plt.figure()\\nax = fig.add_subplot(projection='3d')\\n\\nn_plot_samples = 1000\\n\\nmax_val = 0\\nfor x in np.linspace(0, 1, n_plot_samples):\\n    for z in np.linspace(0, 1, n_plot_samples):\\n        ax.scatter(x, z, np.exp(-5*((x-z)*(x-z))) - np.exp(-5*((x+0.05-z)*(x+0.05-z))))\\n        max_val = max(np.exp(-5*(np.power(x-z, 2))) - np.exp(-5*(np.power(x-z+0.1, 2))), max_val)\\nmax_val\\n\""
      ]
     },
     "execution_count": 8,
     "metadata": {},
     "output_type": "execute_result"
    }
   ],
   "source": [
    "\"\"\"\n",
    "%matplotlib qt\n",
    "\n",
    "fig = plt.figure()\n",
    "ax = fig.add_subplot(projection='3d')\n",
    "\n",
    "n_plot_samples = 1000\n",
    "\n",
    "max_val = 0\n",
    "for x in np.linspace(0, 1, n_plot_samples):\n",
    "    for z in np.linspace(0, 1, n_plot_samples):\n",
    "        ax.scatter(x, z, np.exp(-5*((x-z)*(x-z))) - np.exp(-5*((x+0.05-z)*(x+0.05-z))))\n",
    "        max_val = max(np.exp(-5*(np.power(x-z, 2))) - np.exp(-5*(np.power(x-z+0.1, 2))), max_val)\n",
    "max_val\n",
    "\"\"\"\n",
    "\n",
    "# np.max(np.abs(approx_regressor.K_matrix - regressor.K_matrix))\n",
    "\n",
    "# np.round(np.linalg.inv(regressor.K_matrix - base_sigma_sq * np.eye(n_samples)), 2)\n",
    "# np.round(np.linalg.inv(regressor.K_matrix), 2)\n",
    "\n",
    "# np.round(np.linalg.inv(approx_regressor.K_matrix - base_sigma_sq * np.eye(n_samples)), 2)\n",
    "# np.round(np.linalg.inv(approx_regressor.K_matrix), 2)"
   ]
  },
  {
   "cell_type": "code",
   "execution_count": null,
   "id": "b0d8e377-a2dc-4d5a-ae25-f94936d16fcb",
   "metadata": {},
   "outputs": [],
   "source": []
  }
 ],
 "metadata": {
  "kernelspec": {
   "display_name": "Python 3 (ipykernel)",
   "language": "python",
   "name": "python3"
  },
  "language_info": {
   "codemirror_mode": {
    "name": "ipython",
    "version": 3
   },
   "file_extension": ".py",
   "mimetype": "text/x-python",
   "name": "python",
   "nbconvert_exporter": "python",
   "pygments_lexer": "ipython3",
   "version": "3.12.4"
  }
 },
 "nbformat": 4,
 "nbformat_minor": 5
}
