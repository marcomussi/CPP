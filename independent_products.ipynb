{
 "cells": [
  {
   "cell_type": "code",
   "execution_count": 1,
   "id": "c0244d84-2e28-4241-b213-56854881d874",
   "metadata": {},
   "outputs": [],
   "source": [
    "import numpy as np, datetime, json, sys\n",
    "import matplotlib.pyplot as plt\n",
    "import tikzplotlib as tkz\n",
    "from tqdm.auto import tqdm\n",
    "\n",
    "from envs import IndependentPricingEnv\n",
    "from agents import PricingAgentIndependent\n",
    "from utils import generate_curves, generate_user_ranges"
   ]
  },
  {
   "cell_type": "code",
   "execution_count": 2,
   "id": "45c0f66d-5f29-4a58-b40f-f4a963ad0279",
   "metadata": {},
   "outputs": [],
   "source": [
    "def trial_independent_products(num_products, num_actions, actions, horizon, user_ranges_overall, L_kernel, trial_id):\n",
    "\n",
    "    np.random.seed(trial_id)\n",
    "    \n",
    "    demands = generate_curves(num_products, num_actions=num_actions)\n",
    "    \n",
    "    user_ranges = generate_user_ranges(num_products, user_ranges_overall[0], user_ranges_overall[1])\n",
    "\n",
    "    actions_rep = np.repeat(actions.reshape(1, -1), num_products, axis=0)\n",
    "    env = IndependentPricingEnv(num_products, num_actions, actions_rep, demands, user_ranges, seed=trial_id)\n",
    "    optimal_actions, optimal_values = env.compute_optimal_actions()\n",
    "    \n",
    "    results_dict = {\"res\" : np.zeros((horizon, num_products)), \"act\" : np.zeros((horizon, num_products), dtype=int)}\n",
    "\n",
    "    indep_instances = []\n",
    "    for i in range(num_products): \n",
    "        indep_instances.append(PricingAgentIndependent(L_kernel, 1/(2*np.sqrt(user_ranges[i, 0])), horizon, actions))\n",
    "    \n",
    "    for t in tqdm(range(horizon)):\n",
    "        \n",
    "        for i in range(num_products):\n",
    "            results_dict[\"act\"][t, i] = indep_instances[i].pull()\n",
    "        \n",
    "        res = env.step(results_dict[\"act\"][t, :])\n",
    "        \n",
    "        for i in range(num_products):\n",
    "            indep_instances[i].update(res[i, 0] / res[i, 1])\n",
    "            # results_dict[\"res\"][t, i] = res[i, 1] * optimal_values[i] - res[i, 0] * actions[results_dict[\"act\"][t, i]]\n",
    "            results_dict[\"res\"][t, i] = res[i, 1] * optimal_values[i] - res[i, 1] * actions[results_dict[\"act\"][t, i]] * demands[i, results_dict[\"act\"][t, i]]\n",
    "\n",
    "    return results_dict"
   ]
  },
  {
   "cell_type": "code",
   "execution_count": 3,
   "id": "690fe742-745c-4607-b602-6b822f92c8b8",
   "metadata": {},
   "outputs": [
    {
     "data": {
      "application/vnd.jupyter.widget-view+json": {
       "model_id": "085190dc360d43548a98b99e99e86f1b",
       "version_major": 2,
       "version_minor": 0
      },
      "text/plain": [
       "  0%|          | 0/300 [00:00<?, ?it/s]"
      ]
     },
     "metadata": {},
     "output_type": "display_data"
    },
    {
     "data": {
      "application/vnd.jupyter.widget-view+json": {
       "model_id": "30ddfddb861f4fd1849f3dfa5c81c2d3",
       "version_major": 2,
       "version_minor": 0
      },
      "text/plain": [
       "  0%|          | 0/300 [00:00<?, ?it/s]"
      ]
     },
     "metadata": {},
     "output_type": "display_data"
    },
    {
     "data": {
      "application/vnd.jupyter.widget-view+json": {
       "model_id": "8b324187203642b5ab715573b675f9a7",
       "version_major": 2,
       "version_minor": 0
      },
      "text/plain": [
       "  0%|          | 0/300 [00:00<?, ?it/s]"
      ]
     },
     "metadata": {},
     "output_type": "display_data"
    },
    {
     "data": {
      "application/vnd.jupyter.widget-view+json": {
       "model_id": "b01bac39349c418faa22a89e6e069881",
       "version_major": 2,
       "version_minor": 0
      },
      "text/plain": [
       "  0%|          | 0/300 [00:00<?, ?it/s]"
      ]
     },
     "metadata": {},
     "output_type": "display_data"
    },
    {
     "data": {
      "application/vnd.jupyter.widget-view+json": {
       "model_id": "d3077168e18c4239b456653f10f0aeff",
       "version_major": 2,
       "version_minor": 0
      },
      "text/plain": [
       "  0%|          | 0/300 [00:00<?, ?it/s]"
      ]
     },
     "metadata": {},
     "output_type": "display_data"
    },
    {
     "data": {
      "application/vnd.jupyter.widget-view+json": {
       "model_id": "dc49893259214ad083a2227fe514ee7f",
       "version_major": 2,
       "version_minor": 0
      },
      "text/plain": [
       "  0%|          | 0/300 [00:00<?, ?it/s]"
      ]
     },
     "metadata": {},
     "output_type": "display_data"
    },
    {
     "data": {
      "application/vnd.jupyter.widget-view+json": {
       "model_id": "5d2a211ab3594031bb3c7705d1fe9127",
       "version_major": 2,
       "version_minor": 0
      },
      "text/plain": [
       "  0%|          | 0/300 [00:00<?, ?it/s]"
      ]
     },
     "metadata": {},
     "output_type": "display_data"
    },
    {
     "data": {
      "application/vnd.jupyter.widget-view+json": {
       "model_id": "c1389cd4d091472e9de318d3eceafcf4",
       "version_major": 2,
       "version_minor": 0
      },
      "text/plain": [
       "  0%|          | 0/300 [00:00<?, ?it/s]"
      ]
     },
     "metadata": {},
     "output_type": "display_data"
    },
    {
     "data": {
      "application/vnd.jupyter.widget-view+json": {
       "model_id": "dd7b645543674cf9b6deaecd0341f032",
       "version_major": 2,
       "version_minor": 0
      },
      "text/plain": [
       "  0%|          | 0/300 [00:00<?, ?it/s]"
      ]
     },
     "metadata": {},
     "output_type": "display_data"
    },
    {
     "data": {
      "application/vnd.jupyter.widget-view+json": {
       "model_id": "1a688bd6c3e24033b16556b033e7110f",
       "version_major": 2,
       "version_minor": 0
      },
      "text/plain": [
       "  0%|          | 0/300 [00:00<?, ?it/s]"
      ]
     },
     "metadata": {},
     "output_type": "display_data"
    }
   ],
   "source": [
    "# Settings\n",
    "num_actions = 10\n",
    "num_products = 1\n",
    "horizon = 300\n",
    "user_ranges_overall = [10, 30]\n",
    "actions = np.linspace(0.1, 1.0, num_actions)\n",
    "L_kernel = 10\n",
    "num_trials = 10\n",
    "\n",
    "# Run\n",
    "results_dict = []\n",
    "for i in range(num_trials):\n",
    "    results_dict.append(trial_independent_products(num_products, num_actions, actions, horizon, user_ranges_overall, L_kernel, i))"
   ]
  },
  {
   "cell_type": "code",
   "execution_count": 4,
   "id": "c3b70d9c-8e93-429f-8812-4b4f083bfad9",
   "metadata": {},
   "outputs": [
    {
     "data": {
      "image/png": "[encoded data removed]",
      "text/plain": [
       "<Figure size 640x480 with 1 Axes>"
      ]
     },
     "metadata": {},
     "output_type": "display_data"
    }
   ],
   "source": [
    "plt.figure()\n",
    "x_plt = np.linspace(0, horizon-1, horizon, dtype=int)\n",
    "aux = np.zeros((num_trials, horizon))\n",
    "for i in range(num_trials):\n",
    "    aux[i, :] = np.array(results_dict[i][\"res\"]).sum(axis=1)    \n",
    "results = np.cumsum(aux, axis=1)\n",
    "results_mean = np.mean(results, axis=0)\n",
    "results_std = 1.96 * results.std(axis=0) / np.sqrt(num_trials)\n",
    "plt.plot(x_plt, results_mean[x_plt])\n",
    "plt.fill_between(x_plt, results_mean[x_plt] - results_std[x_plt], results_mean[x_plt] + results_std[x_plt], alpha=0.3)\n",
    "plt.xlabel(\"Rounds\")\n",
    "plt.ylabel(\"Cumulative Regret\")\n",
    "time_print = datetime.datetime.now().strftime(\"(%Y-%b-%d %Ih%Mm%p)\")\n",
    "save_path = \"results/indep_run\" + time_print\n",
    "tkz.save(save_path + \".tex\")\n",
    "plt.savefig(save_path + \".jpg\")"
   ]
  }
 ],
 "metadata": {
  "kernelspec": {
   "display_name": "Python 3 (ipykernel)",
   "language": "python",
   "name": "python3"
  },
  "language_info": {
   "codemirror_mode": {
    "name": "ipython",
    "version": 3
   },
   "file_extension": ".py",
   "mimetype": "text/x-python",
   "name": "python",
   "nbconvert_exporter": "python",
   "pygments_lexer": "ipython3",
   "version": "3.9.19"
  }
 },
 "nbformat": 4,
 "nbformat_minor": 5
}
